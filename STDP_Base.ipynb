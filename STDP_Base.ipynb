{
 "cells": [
  {
   "cell_type": "code",
   "execution_count": 1,
   "metadata": {},
   "outputs": [
    {
     "data": {
      "text/html": [
       "<style>.container { width:90% !important; }</style>"
      ],
      "text/plain": [
       "<IPython.core.display.HTML object>"
      ]
     },
     "metadata": {},
     "output_type": "display_data"
    }
   ],
   "source": [
    "from IPython.core.display import display, HTML\n",
    "display(HTML(\"<style>.container { width:90% !important; }</style>\"))\n",
    "\n",
    "from IPython import display\n",
    "\n",
    "from matplotlib import pyplot as plt\n",
    "import numpy as np\n",
    "import math"
   ]
  },
  {
   "cell_type": "code",
   "execution_count": 2,
   "metadata": {},
   "outputs": [],
   "source": [
    "\n",
    "class memristor():\n",
    "                                                                                   #Kon= -70*10**(-6)\n",
    "    def __init__(self, \n",
    "                 w_current,\n",
    "                 Von = -2,\n",
    "                 Voff = 2,\n",
    "                 Ron=6050000,\n",
    "                 Roff=65*6050000,\n",
    "                 L=3*10**(-6),\n",
    "                 Kon=-1.32*10**(-6), \n",
    "                 Koff=5*10**(-6),\n",
    "                 Aon=5,\n",
    "                 Aoff=13,\n",
    "                 a_on = 1.5*10**(-6),\n",
    "                 a_off = 1.2*10**(-9),\n",
    "                 x_c = 100,\n",
    "                 x_c_on = 10**(-6)):\n",
    "\n",
    "        self.w_current = w_current\n",
    "        self.V_on = Von\n",
    "        self.V_off = Voff\n",
    "        self.R_on = Ron\n",
    "        self.R_off = Roff\n",
    "        self.x_off = L\n",
    "        self.x_on = 0\n",
    "        self.x = self.x_current(self.w_current)\n",
    "        self.K_on=Kon\n",
    "        self.K_off=Koff\n",
    "        self.Alpha_on=Aon\n",
    "        self.Alpha_off=Aoff\n",
    "        self.R = np.exp(np.log(self.R_off/self.R_on) * (self.x - self.x_on)/(self.x_off - self.x_on)) * self.R_on\n",
    "        self.G_norm = 1/Ron - 1/Roff\n",
    "        self.a_on = a_on\n",
    "        self.a_off = a_off\n",
    "        self.x_c = x_c\n",
    "        self.x_c_on = x_c_on\n",
    "        \n",
    "    def Res(self, InVolt, dt):\n",
    "        \n",
    "            if (InVolt >= self.V_off):\n",
    "    \n",
    "                dxdt = self.K_off*((InVolt/self.V_off-1)**self.Alpha_off)\n",
    "    \n",
    "            if (InVolt <= self.V_on):\n",
    "    \n",
    "                dxdt = self.K_on*((InVolt/self.V_on-1)**self.Alpha_on)\n",
    "    \n",
    "            if ((self.V_on < InVolt) and (InVolt < self.V_off)):\n",
    "  \n",
    "                dxdt=0\n",
    "  \n",
    "    \n",
    "            if (InVolt >= 0):\n",
    "           \n",
    "                self.x = self.x + dt*dxdt*np.exp(-np.exp((self.x - self.a_off)/self.x_c))\n",
    "              #  self.x = self.x + dt* dxdt\n",
    "        \n",
    "        \n",
    "            if (InVolt < 0):\n",
    "       \n",
    "                self.x = self.x + dt*dxdt*np.exp(-np.exp((self.a_on - self.x)/self.x_c_on));\n",
    "               # self.x = self.x + dt* dxdt\n",
    "            \n",
    "            if (self.x>=self.x_off):\n",
    "\n",
    "                dxdt=0\n",
    "                self.x = self.x_off\n",
    "    \n",
    "            if (self.x<=self.x_on):\n",
    "    \n",
    "                dxdt = 0\n",
    "                self.x = self.x_on\n",
    "    \n",
    "            #return self.R_on + (self.x - self.x_on)*(self.R_off - self.R_on)/(self.x_off - self.x_on)\n",
    "            self.R = np.exp(np.log(self.R_off/self.R_on) * (self.x - self.x_on)/(self.x_off - self.x_on)) * self.R_on\n",
    "    \n",
    "    def update(self, R: float):\n",
    "    \n",
    "        self.R = R\n",
    "        \n",
    "    def x_current (self, w_current: float):\n",
    "       \n",
    "        R = 1/(1/self.R_on - w_current*(1/self.R_on - 1/self.R_off))\n",
    "        \n",
    "        return self.x_on + (self.x_off - self.x_on)*(np.log(R/self.R_on))/(np.log(self.R_off/self.R_on))\n",
    "\n",
    "    def reset(self):  \n",
    "         \n",
    "        self.x = self.x_current(self.w_current)\n",
    "        self.R = np.exp(np.log(self.R_off/self.R_on) * (self.x - self.x_on)/(self.x_off - self.x_on)) * self.R_on\n",
    "    "
   ]
  },
  {
   "cell_type": "code",
   "execution_count": 3,
   "metadata": {},
   "outputs": [],
   "source": [
    "dt = 1\n",
    "\n",
    "#memr = memristor()\n",
    "\n",
    "impulse_length = 60.0  #длительность импулсьа\n",
    "impulse_amplitude = 1.8\n",
    "impulse_amplitude_2 = 1.8\n",
    "\n",
    "k = 0.9\n",
    " \n",
    "                                    "
   ]
  },
  {
   "cell_type": "code",
   "execution_count": 4,
   "metadata": {},
   "outputs": [],
   "source": [
    "def impulse_curve_2(t, dt, impulse_length, impulse_amplitude): #производная импульса\n",
    "        \n",
    "        impulse_value = impulse_amplitude/(impulse_length - 2 * dt)/k #производная в точках, не находящихся в середине импульса\n",
    "    \n",
    "        impulse_bias =  (2*impulse_amplitude *(abs(t - (impulse_length * k)) < dt/2) + 2*impulse_amplitude*(abs(t - (impulse_length * k)) == dt/2)*(t < impulse_length * k))/dt\n",
    "                                               \n",
    "        impulse = (-impulse_value) * (t > 0) * (t < impulse_length * k) + (-impulse_value)/((1-k)/k)  * (t > impulse_length * k) + impulse_bias\n",
    "        \n",
    "        #impulse = (-impulse_value)/(1-k)  * (t > impulse_length * k) + impulse_bias\n",
    "        \n",
    "        impulse *= -1\n",
    "        \n",
    "        return impulse\n",
    "    "
   ]
  },
  {
   "cell_type": "code",
   "execution_count": 5,
   "metadata": {},
   "outputs": [],
   "source": [
    "\n",
    "def impulse_curve_2_integrated(k, dt, impulse_length, impulse_amplitude): # сам импульс, принимает не время, а номер шага по времени и dt, это чтобы при операциях с float меньше терять\n",
    "    #информацию\n",
    "    \n",
    "    current = 0\n",
    "    \n",
    "    for i in range (k + 1):\n",
    "    \n",
    "        current +=  dt * impulse_curve_2(i*dt, dt, impulse_length, impulse_amplitude)\n",
    "        \n",
    "        #print(i*dt,'\\n')\n",
    "        if (i * dt >= impulse_length):\n",
    "            current = 0\n",
    "        \n",
    "    return current\n",
    "    "
   ]
  },
  {
   "cell_type": "code",
   "execution_count": 6,
   "metadata": {},
   "outputs": [],
   "source": [
    "import torch"
   ]
  },
  {
   "cell_type": "code",
   "execution_count": 7,
   "metadata": {},
   "outputs": [],
   "source": [
    "fl = open(\"C:/Users/Всеволод/Desktop/STDP.txt\",'w')"
   ]
  },
  {
   "cell_type": "code",
   "execution_count": 8,
   "metadata": {},
   "outputs": [
    {
     "data": {
      "text/plain": [
       "_io.TextIOWrapper"
      ]
     },
     "execution_count": 8,
     "metadata": {},
     "output_type": "execute_result"
    }
   ],
   "source": [
    "type(fl)"
   ]
  },
  {
   "cell_type": "code",
   "execution_count": 9,
   "metadata": {},
   "outputs": [],
   "source": [
    "#Промеряем STDP\n",
    "delta_w = []\n",
    "R_arch = []\n",
    "\n",
    "\n",
    "\n",
    "pi = 3.1415/impulse_length\n",
    "\n",
    "\n",
    "for num in range (0,101):\n",
    "    \n",
    "    w_current = num/100\n",
    "    \n",
    "    memr = memristor(w_current)\n",
    "    \n",
    "    \n",
    "    for count in range(int(-60/dt), int(60/dt)):\n",
    "    \n",
    "        delta_t = count * dt\n",
    "#delta_t = 2\n",
    "    \n",
    "    #delta_w_current = 0\n",
    "    \n",
    "        R_c = memr.R\n",
    "    \n",
    "        for t_s in range( 0 , int((impulse_length + abs(delta_t))/dt)):\n",
    "        \n",
    "            t = t_s * dt\n",
    "         \n",
    "        #R_c = memr.R\n",
    "            if (delta_t > 0):\n",
    "                memr.Res(impulse_curve_2_integrated(t_s, dt, impulse_length, impulse_amplitude)*(t<=impulse_length) - impulse_curve_2_integrated(int(( t - delta_t)/dt), dt,impulse_length, impulse_amplitude_2)*(t>=abs(delta_t)), dt) \n",
    "            \n",
    "        #memr.Res(np.sin(t*2*pi)*(t<=impulse_length) + np.sin((t - delta_t)*2*pi)*(t>=abs(delta_t)), dt)\n",
    "        \n",
    "            else:\n",
    "                memr.Res(impulse_curve_2_integrated(int(( t - abs(delta_t))/dt), dt, impulse_length, impulse_amplitude)*(t>=abs(delta_t)) - impulse_curve_2_integrated(t_s, dt,impulse_length, impulse_amplitude_2)*(t<=impulse_length), dt)\n",
    "            \n",
    "        delta_w_current = (1/memr.R - 1/R_c)/memr.G_norm\n",
    "    \n",
    "        #delta_w_current = impulse_curve_2_integrated(t_s, dt, impulse_length)*(t<=impulse_length) + impulse_curve_2_integrated(int((t - delta_t)/dt), dt,impulse_length)*(t>=abs(delta_t))\n",
    "        \n",
    "        \n",
    "        \n",
    "        delta_w.append(str(delta_w_current))  \n",
    "        delta_w.append(' ')\n",
    "        memr.reset()\n",
    "    \n",
    "    delta_w.append('\\n')\n",
    "    fl.writelines(delta_w)\n",
    "    delta_w.clear()\n",
    "    "
   ]
  },
  {
   "cell_type": "code",
   "execution_count": 10,
   "metadata": {},
   "outputs": [],
   "source": [
    "fl.close()"
   ]
  }
 ],
 "metadata": {
  "kernelspec": {
   "display_name": "Python 3",
   "language": "python",
   "name": "python3"
  },
  "language_info": {
   "codemirror_mode": {
    "name": "ipython",
    "version": 3
   },
   "file_extension": ".py",
   "mimetype": "text/x-python",
   "name": "python",
   "nbconvert_exporter": "python",
   "pygments_lexer": "ipython3",
   "version": "3.6.8"
  }
 },
 "nbformat": 4,
 "nbformat_minor": 2
}
